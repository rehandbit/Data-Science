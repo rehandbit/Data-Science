{
 "cells": [
  {
   "cell_type": "markdown",
   "id": "b7aa2c05",
   "metadata": {
    "id": "b7aa2c05"
   },
   "source": [
    "# LOOPS\n",
    "The process of performing a set of tasks iteratively as per requirement is known as looping.\n",
    "\n",
    "There are two essential loops in Python."
   ]
  },
  {
   "cell_type": "markdown",
   "id": "c626ed9d",
   "metadata": {
    "id": "c626ed9d"
   },
   "source": [
    "## While Loop"
   ]
  },
  {
   "cell_type": "raw",
   "id": "f55d20ee",
   "metadata": {
    "id": "f55d20ee"
   },
   "source": [
    "while loop is used to execute a block of statements repeatedly subject to a condition being satisfied.\n",
    "When the expression of the condition is no longer True, the while loop is exited."
   ]
  },
  {
   "cell_type": "code",
   "execution_count": 3,
   "id": "03357265",
   "metadata": {
    "colab": {
     "base_uri": "https://localhost:8080/"
    },
    "executionInfo": {
     "elapsed": 9,
     "status": "ok",
     "timestamp": 1697952449947,
     "user": {
      "displayName": "Rama Chandra Kotturu",
      "userId": "02243285469857073193"
     },
     "user_tz": -330
    },
    "id": "03357265",
    "outputId": "c220f0eb-9c96-4c01-fa6b-ddbb6889b3af"
   },
   "outputs": [
    {
     "name": "stdout",
     "output_type": "stream",
     "text": [
      "While condition is satisfied for 1\n",
      "While condition is satisfied for 2\n",
      "While condition is satisfied for 3\n",
      "While condition is satisfied for 4\n",
      "While condition is satisfied for 5\n",
      "Loop is exited\n"
     ]
    }
   ],
   "source": [
    "# Simple while loop\n",
    "i=1 # counter initialized\n",
    "while i<6: \n",
    "    print('While condition is satisfied for',i) # block of code indented\n",
    "    i=i+1 # incrementer\n",
    "print(\"Loop is exited\") # outside the while block-of-code"
   ]
  },
  {
   "cell_type": "code",
   "execution_count": 4,
   "id": "3ae310d7",
   "metadata": {
    "id": "3ae310d7"
   },
   "outputs": [
    {
     "name": "stdout",
     "output_type": "stream",
     "text": [
      "Even numbers between 0 and 10:\n",
      "0\n",
      "2\n",
      "4\n",
      "6\n",
      "8\n",
      "10\n"
     ]
    }
   ],
   "source": [
    "print(\"Even numbers between 0 and 10:\")\n",
    "c=0\n",
    "while c<11:\n",
    "    print(c)\n",
    "    c+=2 # operator += equivalent to incrementing by 2"
   ]
  },
  {
   "cell_type": "code",
   "execution_count": 6,
   "id": "9ec1a87c-6269-466b-8f0e-211cab60b89d",
   "metadata": {},
   "outputs": [
    {
     "name": "stdout",
     "output_type": "stream",
     "text": [
      "[25, 40, 25, 80, 75, 25, 88, 25, 24, 25, 77, 25, 56, 25, 10, 25]\n",
      "8\n"
     ]
    }
   ],
   "source": [
    "nums = [25,40,25,80,75,25,88,25,24,25,77,25,56,25,10,25]\n",
    "print(nums)\n",
    "print(nums.count(25))"
   ]
  },
  {
   "cell_type": "raw",
   "id": "387bf42c-a14a-436b-b937-14992daabe61",
   "metadata": {},
   "source": [
    "Remove instances of 25 from the number list such that the count reduces from 8 to 5."
   ]
  },
  {
   "cell_type": "code",
   "execution_count": null,
   "id": "61cb783b-a138-427c-b6d6-c75deb737158",
   "metadata": {
    "colab": {
     "base_uri": "https://localhost:8080/"
    },
    "executionInfo": {
     "elapsed": 8,
     "status": "ok",
     "timestamp": 1688797801387,
     "user": {
      "displayName": "Rama Chandra Kotturu",
      "userId": "02243285469857073193"
     },
     "user_tz": -330
    },
    "id": "1d3818fc",
    "outputId": "a1ff61b3-29c4-4eb0-9238-04f296c3f081"
   },
   "outputs": [],
   "source": [
    "# while loop with break statement\n",
    "# break command stops the loop prematurely\n",
    "\n",
    "while 25 in nums: # membership check\n",
    "    nums.remove(25) \n",
    "    c = nums.count(25)\n",
    "    if c==5:\n",
    "        break # exits the while loop without further checks\n",
    "        \n",
    "print(nums)\n",
    "print(\"Count of 25s in the list is now\",c)\n"
   ]
  },
  {
   "cell_type": "code",
   "execution_count": 12,
   "id": "1a240bae",
   "metadata": {
    "id": "1a240bae"
   },
   "outputs": [
    {
     "name": "stdout",
     "output_type": "stream",
     "text": [
      "Square of 1 = 1\n",
      "Square of 2 = 4\n",
      "Square of 3 = 9\n",
      "*********Iteration skipped here*******\n",
      "*********Iteration skipped here*******\n",
      "Square of 6 = 36\n",
      "Square of 7 = 49\n",
      "Square of 8 = 64\n"
     ]
    }
   ],
   "source": [
    "# While loop with continue statement.\n",
    "i=0\n",
    "while i<8:\n",
    "    i+=1 # incrementer provided early\n",
    "    sq = i**2\n",
    "    if 10<sq<30:\n",
    "        print(\"*********Iteration skipped here*******\")\n",
    "        continue\n",
    "    print(f\"Square of {i} = {i**2}\")"
   ]
  },
  {
   "cell_type": "code",
   "execution_count": 2,
   "id": "379d5289",
   "metadata": {
    "colab": {
     "base_uri": "https://localhost:8080/"
    },
    "executionInfo": {
     "elapsed": 6,
     "status": "ok",
     "timestamp": 1697952628556,
     "user": {
      "displayName": "Rama Chandra Kotturu",
      "userId": "02243285469857073193"
     },
     "user_tz": -330
    },
    "id": "379d5289",
    "outputId": "e897a85b-6457-4607-cb7a-04780242cf48"
   },
   "outputs": [
    {
     "name": "stdout",
     "output_type": "stream",
     "text": [
      "4\n",
      "5\n",
      "6\n",
      "While loop condition is false\n"
     ]
    }
   ],
   "source": [
    "# While loop with else statement\n",
    "i=3\n",
    "while i<6:\n",
    "    i+=1\n",
    "    print(i)\n",
    "\n",
    "else:\n",
    "    print('While loop condition is false')"
   ]
  },
  {
   "cell_type": "code",
   "execution_count": 3,
   "id": "48b9149e",
   "metadata": {
    "colab": {
     "base_uri": "https://localhost:8080/"
    },
    "executionInfo": {
     "elapsed": 383,
     "status": "ok",
     "timestamp": 1697952668155,
     "user": {
      "displayName": "Rama Chandra Kotturu",
      "userId": "02243285469857073193"
     },
     "user_tz": -330
    },
    "id": "48b9149e",
    "outputId": "3564a109-681c-4d0d-a22c-898691880b04"
   },
   "outputs": [
    {
     "name": "stdout",
     "output_type": "stream",
     "text": [
      "Data science\n",
      "Data science\n"
     ]
    }
   ],
   "source": [
    "count = 1\n",
    "while (count < 3):\n",
    "    count = count + 1\n",
    "    print(\"Data science\")"
   ]
  },
  {
   "cell_type": "code",
   "execution_count": 7,
   "id": "8xCHhXtz5E7S",
   "metadata": {
    "id": "8xCHhXtz5E7S"
   },
   "outputs": [
    {
     "name": "stdin",
     "output_type": "stream",
     "text": [
      "Enter a number 161\n"
     ]
    },
    {
     "name": "stdout",
     "output_type": "stream",
     "text": [
      "Composite\n"
     ]
    }
   ],
   "source": [
    "# Identify whether a given number is prime or composite\n",
    "num=int(input(\"Enter a number\"))\n",
    "i=1 # iterator\n",
    "count=0 # no. of factors\n",
    "while i<=num/2:\n",
    "    if num%i==0:\n",
    "      count += 1\n",
    "    i += 1\n",
    "      \n",
    "if count==1:\n",
    "  print(\"Prime\")\n",
    "else:\n",
    "  print(\"Composite\")"
   ]
  },
  {
   "cell_type": "markdown",
   "id": "a5a173b3",
   "metadata": {
    "id": "a5a173b3"
   },
   "source": [
    "## For Loop\n"
   ]
  },
  {
   "cell_type": "markdown",
   "id": "bf42f7f7-4854-4539-aa4c-b0885057c071",
   "metadata": {
    "id": "2ece8894"
   },
   "source": [
    "_for_ loops are used to loop through an iterable object; typically a list, tuple or set.\n",
    "\n",
    "The set of operations will be then performed for each item of the sequence."
   ]
  },
  {
   "cell_type": "code",
   "execution_count": 12,
   "id": "3c72273a",
   "metadata": {
    "id": "3c72273a"
   },
   "outputs": [
    {
     "name": "stdout",
     "output_type": "stream",
     "text": [
      "10\n",
      "12\n",
      "3\n",
      "14\n",
      "25\n",
      "16\n",
      "7\n",
      "8\n",
      "9\n",
      "34\n"
     ]
    }
   ],
   "source": [
    "count=[10,12,3,14,25,16,7,8,9,34]\n",
    "for c in count:\n",
    "    print(c)"
   ]
  },
  {
   "cell_type": "raw",
   "id": "c66d89e4-dce3-4ad3-9319-93b39412d492",
   "metadata": {},
   "source": [
    "Notice that the counter points to each item in order and executes the block of code.\n",
    "There is no initialisation or incrementing required in a for loop."
   ]
  },
  {
   "cell_type": "code",
   "execution_count": null,
   "id": "f2a1ad9e",
   "metadata": {
    "id": "f2a1ad9e"
   },
   "outputs": [],
   "source": [
    "fruits=['Apple','Banana','Mango','Watermelon']\n",
    "for i in fruits:\n",
    "    print(i)"
   ]
  },
  {
   "cell_type": "code",
   "execution_count": 14,
   "id": "3e009e99",
   "metadata": {
    "id": "3e009e99"
   },
   "outputs": [
    {
     "name": "stdout",
     "output_type": "stream",
     "text": [
      "#\n",
      "1\n",
      "2\n",
      "t\n",
      "h\n",
      " \n",
      "M\n",
      "a\n",
      "i\n",
      "n\n",
      " \n",
      "R\n",
      "o\n",
      "a\n",
      "d\n"
     ]
    }
   ],
   "source": [
    "s='#12th Main Road'\n",
    "for i in s:\n",
    "    print(i) # string is a variable made up of characters in sequence"
   ]
  },
  {
   "cell_type": "code",
   "execution_count": 15,
   "id": "b5c7567f-8798-4a93-8e73-b5f97404562a",
   "metadata": {
    "id": "3e009e99"
   },
   "outputs": [
    {
     "name": "stdout",
     "output_type": "stream",
     "text": [
      "#12th\n",
      "Main\n",
      "Road\n"
     ]
    }
   ],
   "source": [
    "# Separating the above string by spaces\n",
    "for i in s.split():\n",
    "    print(i)"
   ]
  },
  {
   "cell_type": "code",
   "execution_count": null,
   "id": "8b29b31c",
   "metadata": {
    "id": "8b29b31c"
   },
   "outputs": [],
   "source": [
    "## Range function\n",
    "for i in range(10):\n",
    "# range is a generator function which\n",
    "#yields numbers from specified start to end point\n",
    "    print(i)"
   ]
  },
  {
   "cell_type": "code",
   "execution_count": null,
   "id": "599af1d8",
   "metadata": {
    "id": "599af1d8"
   },
   "outputs": [],
   "source": [
    "for i in range(1,20,2):\n",
    "    # lower limit,upper limit,step\n",
    "    print(i)"
   ]
  },
  {
   "cell_type": "code",
   "execution_count": null,
   "id": "bc997ca8",
   "metadata": {
    "id": "bc997ca8"
   },
   "outputs": [],
   "source": [
    "# Nested loops\n",
    "a=['red','blue','green']\n",
    "b=['Apple','Banana','Orange']\n",
    "for i in a: ## outer loop\n",
    "    for h in b: ## inner loop\n",
    "        print(i,h)"
   ]
  },
  {
   "cell_type": "code",
   "execution_count": 19,
   "id": "be482593",
   "metadata": {
    "id": "be482593"
   },
   "outputs": [],
   "source": [
    "# Another example of nesting\n",
    "course=['Maths','Data Science','Economics','Social Sciences']\n",
    "size=[78,90,56,90] # size of batches A,B,C,D\n",
    "batch=('A','B','C','D')"
   ]
  },
  {
   "cell_type": "code",
   "execution_count": 20,
   "id": "836a32d0",
   "metadata": {
    "id": "836a32d0"
   },
   "outputs": [
    {
     "name": "stdout",
     "output_type": "stream",
     "text": [
      "Batch A of size 78 shall attend Maths\n",
      "Batch B of size 90 shall attend Maths\n",
      "Batch C of size 56 shall attend Maths\n",
      "Batch B of size 90 shall attend Maths\n",
      "Batch A of size 78 shall attend Data Science\n",
      "Batch B of size 90 shall attend Data Science\n",
      "Batch C of size 56 shall attend Data Science\n",
      "Batch B of size 90 shall attend Data Science\n",
      "Batch A of size 78 shall attend Economics\n",
      "Batch B of size 90 shall attend Economics\n",
      "Batch C of size 56 shall attend Economics\n",
      "Batch B of size 90 shall attend Economics\n",
      "Batch A of size 78 shall attend Social Sciences\n",
      "Batch B of size 90 shall attend Social Sciences\n",
      "Batch C of size 56 shall attend Social Sciences\n",
      "Batch B of size 90 shall attend Social Sciences\n"
     ]
    }
   ],
   "source": [
    "for i in course: # Outer loop\n",
    "    for k in size: # inner loop\n",
    "        b_loc=size.index(k)\n",
    "        b = batch[b_loc]\n",
    "        print(f\"Batch {b} of size {k} shall attend {i}\")"
   ]
  },
  {
   "cell_type": "markdown",
   "id": "27b23a5e",
   "metadata": {
    "id": "27b23a5e"
   },
   "source": [
    "# Functions"
   ]
  },
  {
   "cell_type": "raw",
   "id": "a0398f55",
   "metadata": {
    "id": "a0398f55"
   },
   "source": [
    "A function is a block of organized code written to carry out a specified task. A function may or may not return data.\n",
    "\n",
    "Functions help break a program into smaller and modular chunks for better readability. \n",
    "\n",
    "Parameters are specified after the function name inside the parentheses.\n",
    "\n",
    "We can add as many parameters as needed, separated by comma. \n",
    "In Python a function is defined using the def keyword\n"
   ]
  },
  {
   "cell_type": "markdown",
   "id": "b7c9fddd",
   "metadata": {
    "id": "b7c9fddd"
   },
   "source": [
    "#### Parameter vs Argument"
   ]
  },
  {
   "cell_type": "raw",
   "id": "df415297",
   "metadata": {
    "id": "df415297"
   },
   "source": [
    "A parameter is the variable listed inside the parentheses in the function definition. An argument is the value that is sent to the function when it is called."
   ]
  },
  {
   "cell_type": "markdown",
   "id": "d5ca03dc",
   "metadata": {
    "id": "d5ca03dc"
   },
   "source": [
    "## Three types of functions in Python:-\n",
    "\n",
    "1) Built-in function :- Python predefined functions that are readily available for use like min() , max() , sum() , print() etc.\n",
    "\n",
    "2) User-Defined Functions:- Function that we define ourselves to perform a specific task.\n",
    "\n",
    "3) Anonymous functions : Function that is defined without a name. Anonymous functions are also called as lambda functions. They are not declared with the def keyword.\n"
   ]
  },
  {
   "cell_type": "markdown",
   "id": "692c41b2",
   "metadata": {
    "id": "692c41b2"
   },
   "source": [
    "1) Python Function with no argument and no return value.\n",
    "\n",
    "2) Function with no argument and with a Return value.\n",
    "\n",
    "\n",
    "3) Python Function with argument and No Return value.\n",
    "\n",
    "4) Function with argument and return value."
   ]
  },
  {
   "cell_type": "code",
   "execution_count": null,
   "id": "9275a626",
   "metadata": {
    "id": "9275a626"
   },
   "outputs": [],
   "source": [
    "#  Syntax Definition of function\n",
    "def name_of_function():\n",
    "    print('Hello')"
   ]
  },
  {
   "cell_type": "code",
   "execution_count": null,
   "id": "097d047d",
   "metadata": {
    "id": "097d047d"
   },
   "outputs": [],
   "source": [
    "# Syntax Calling the function\n",
    "name_of_function(45)"
   ]
  },
  {
   "cell_type": "code",
   "execution_count": null,
   "id": "61384a05",
   "metadata": {
    "id": "61384a05"
   },
   "outputs": [],
   "source": [
    "## create a function with name as your name\n",
    "##and which print your name"
   ]
  },
  {
   "cell_type": "code",
   "execution_count": null,
   "id": "25a5dfcf",
   "metadata": {
    "id": "25a5dfcf"
   },
   "outputs": [],
   "source": [
    "def area_of_circle(r):\n",
    "    area=3.14*r*r\n",
    "    print(area)"
   ]
  },
  {
   "cell_type": "code",
   "execution_count": null,
   "id": "be24ecee",
   "metadata": {
    "id": "be24ecee"
   },
   "outputs": [],
   "source": [
    "area_of_circle(2)"
   ]
  },
  {
   "cell_type": "code",
   "execution_count": null,
   "id": "1692d537",
   "metadata": {
    "id": "1692d537"
   },
   "outputs": [],
   "source": [
    "def perimeter_of_square(side):\n",
    "    peri=4*side\n",
    "    print(peri)"
   ]
  },
  {
   "cell_type": "code",
   "execution_count": null,
   "id": "33daad53",
   "metadata": {
    "id": "33daad53"
   },
   "outputs": [],
   "source": [
    "side=4\n",
    "side=5"
   ]
  },
  {
   "cell_type": "code",
   "execution_count": null,
   "id": "155e3494",
   "metadata": {
    "id": "155e3494"
   },
   "outputs": [],
   "source": [
    "perimeter_of_square(5)"
   ]
  },
  {
   "cell_type": "code",
   "execution_count": null,
   "id": "25378a29",
   "metadata": {
    "id": "25378a29"
   },
   "outputs": [],
   "source": [
    "def rectangle(l,b):\n",
    "    area=l*b\n",
    "    return area"
   ]
  },
  {
   "cell_type": "code",
   "execution_count": null,
   "id": "ccea62a7",
   "metadata": {
    "id": "ccea62a7"
   },
   "outputs": [],
   "source": [
    "rectangle(1,2)"
   ]
  },
  {
   "cell_type": "code",
   "execution_count": null,
   "id": "f0561ecf",
   "metadata": {
    "id": "f0561ecf"
   },
   "outputs": [],
   "source": [
    "def  details(name,userid,country):\n",
    "    #  Function  to  print  User  details\n",
    "    print('Name :- ', name)\n",
    "    print('User ID is :- ', userid)\n",
    "    print('Country  :-  ',country)"
   ]
  },
  {
   "cell_type": "code",
   "execution_count": null,
   "id": "d151795a",
   "metadata": {
    "id": "d151795a"
   },
   "outputs": [],
   "source": [
    "details('Data', 'Data123' , 'India')"
   ]
  },
  {
   "cell_type": "raw",
   "id": "d5394770-8d5e-411d-a8c0-5fcfce65d402",
   "metadata": {
    "id": "b5224979"
   },
   "source": [
    "Task:-Write function to get a number from users and check\n",
    "whether given number is odd or even"
   ]
  },
  {
   "cell_type": "code",
   "execution_count": null,
   "id": "79ae1ef8",
   "metadata": {
    "id": "79ae1ef8"
   },
   "outputs": [],
   "source": [
    "number()"
   ]
  },
  {
   "cell_type": "code",
   "execution_count": null,
   "id": "3c17778f",
   "metadata": {
    "id": "3c17778f"
   },
   "outputs": [],
   "source": [
    "def evenorodd():\n",
    "    a=int(input('Enter your number'))\n",
    "    if a%2==0:\n",
    "        print('The number is even')\n",
    "    else:\n",
    "        print('The number is odd')"
   ]
  },
  {
   "cell_type": "code",
   "execution_count": null,
   "id": "60c941ee",
   "metadata": {
    "id": "60c941ee"
   },
   "outputs": [],
   "source": [
    "evenorodd()"
   ]
  },
  {
   "cell_type": "code",
   "execution_count": null,
   "id": "6bcf8445",
   "metadata": {
    "id": "6bcf8445"
   },
   "outputs": [],
   "source": [
    "##Python Function with no argument and no return value\n",
    "\n",
    "def noargument():\n",
    "    print()\n"
   ]
  },
  {
   "cell_type": "code",
   "execution_count": null,
   "id": "c5fc7ca1",
   "metadata": {
    "id": "c5fc7ca1"
   },
   "outputs": [],
   "source": [
    "noargument(4)"
   ]
  },
  {
   "cell_type": "code",
   "execution_count": null,
   "id": "5c10ef4e",
   "metadata": {
    "id": "5c10ef4e"
   },
   "outputs": [],
   "source": [
    "## Function with no argument and with a Return value\n",
    "def argu():\n",
    "    print('This is no argument but return value function')"
   ]
  },
  {
   "cell_type": "code",
   "execution_count": null,
   "id": "92185096",
   "metadata": {
    "id": "92185096"
   },
   "outputs": [],
   "source": [
    "argu(6)"
   ]
  },
  {
   "cell_type": "code",
   "execution_count": null,
   "id": "0fa1ca02",
   "metadata": {
    "id": "0fa1ca02"
   },
   "outputs": [],
   "source": [
    "##Python Function with argument and No Return value\n",
    "\n",
    "def noreturn(a): ## a is parameter or input to the function\n",
    "    print()"
   ]
  },
  {
   "cell_type": "code",
   "execution_count": null,
   "id": "5c440c57",
   "metadata": {
    "id": "5c440c57"
   },
   "outputs": [],
   "source": [
    "noreturn(6)"
   ]
  },
  {
   "cell_type": "markdown",
   "id": "7c6930aa",
   "metadata": {
    "id": "7c6930aa"
   },
   "source": [
    "### Docstrings:\n",
    "1)\tDocstrings provide a convenient way of associating documentation with functions,\n",
    "classes, methods or modules.\n",
    "\n",
    "2)\tThey appear right after the definition of a function, method, class, or module.\n"
   ]
  },
  {
   "cell_type": "code",
   "execution_count": null,
   "id": "186a3c97",
   "metadata": {
    "id": "186a3c97"
   },
   "outputs": [],
   "source": [
    "## Function with argument and return value\n",
    "def squareofnum(a):\n",
    "      '\n",
    "    return a**2"
   ]
  },
  {
   "cell_type": "code",
   "execution_count": null,
   "id": "a4e55d11",
   "metadata": {
    "id": "a4e55d11",
    "scrolled": true
   },
   "outputs": [],
   "source": [
    "squareofnum(10)"
   ]
  },
  {
   "cell_type": "code",
   "execution_count": null,
   "id": "0e1642a3",
   "metadata": {
    "id": "0e1642a3"
   },
   "outputs": [],
   "source": [
    "q=squareofnum(10)"
   ]
  },
  {
   "cell_type": "code",
   "execution_count": null,
   "id": "4611cea0",
   "metadata": {
    "id": "4611cea0"
   },
   "outputs": [],
   "source": [
    "print(q)"
   ]
  },
  {
   "cell_type": "code",
   "execution_count": null,
   "id": "4f4e3d11",
   "metadata": {
    "id": "4f4e3d11"
   },
   "outputs": [],
   "source": [
    "print(squareofnum.__doc__)"
   ]
  },
  {
   "cell_type": "code",
   "execution_count": null,
   "id": "ac1bddde",
   "metadata": {
    "id": "ac1bddde"
   },
   "outputs": [],
   "source": [
    "Area of circle,perimeter of circle,perimeter of rectangle and square"
   ]
  },
  {
   "cell_type": "code",
   "execution_count": null,
   "id": "a097ac01",
   "metadata": {
    "id": "a097ac01"
   },
   "outputs": [],
   "source": [
    "def areaofcircle():\n",
    "    r=float(input('Enter radius:'))\n",
    "    return 3.14*r*r"
   ]
  },
  {
   "cell_type": "code",
   "execution_count": null,
   "id": "2648c462",
   "metadata": {
    "id": "2648c462"
   },
   "outputs": [],
   "source": [
    "areaofcircle()"
   ]
  },
  {
   "cell_type": "markdown",
   "id": "1e2b84f0",
   "metadata": {
    "id": "1e2b84f0"
   },
   "source": [
    "## Lambda\n",
    "\n",
    " 1) A lambda function is an anonymous function (function without a name).\n",
    "\n",
    " 2) Lambda functions can have any number of arguments but only one expression.\n",
    " The expression is evaluated and returned.\n",
    "\n",
    " 3) We use lambda functions when we require a nameless function for a short period of time.\n"
   ]
  },
  {
   "cell_type": "markdown",
   "id": "8304ef24",
   "metadata": {
    "id": "8304ef24"
   },
   "source": [
    "![image.png](attachment:image.png)"
   ]
  },
  {
   "cell_type": "code",
   "execution_count": null,
   "id": "c5b1a578",
   "metadata": {
    "id": "c5b1a578"
   },
   "outputs": [],
   "source": [
    "addition = lambda  a : a  + 10\n",
    "# This lambda function adds value 10 to an argumentb"
   ]
  },
  {
   "cell_type": "code",
   "execution_count": null,
   "id": "270aa315",
   "metadata": {
    "id": "270aa315"
   },
   "outputs": [],
   "source": [
    "print(addition(8))"
   ]
  },
  {
   "cell_type": "code",
   "execution_count": null,
   "id": "4c661fb0",
   "metadata": {
    "id": "4c661fb0"
   },
   "outputs": [],
   "source": [
    "product  =  lambda  a,  b  :  a  *  b\n",
    "#This  lambda  function  takes  two  arguments  (a,b)\n",
    "#and do the multiplication\n",
    "print(product(5,  6))\n"
   ]
  },
  {
   "cell_type": "markdown",
   "id": "b49795bf",
   "metadata": {
    "id": "b49795bf"
   },
   "source": [
    "## Filter Function\n",
    "\n"
   ]
  },
  {
   "cell_type": "raw",
   "id": "6e9d5c6f",
   "metadata": {
    "id": "6e9d5c6f"
   },
   "source": [
    "The filter() method filters the given sequence with the help of a function that tests each element in the sequence to be true or not."
   ]
  },
  {
   "cell_type": "code",
   "execution_count": null,
   "id": "08c7354c",
   "metadata": {
    "id": "08c7354c",
    "outputId": "7fe19fc6-dee1-488d-9042-e70a86422a9d"
   },
   "outputs": [
    {
     "name": "stdout",
     "output_type": "stream",
     "text": [
      "[1, 3, 5, 13]\n",
      "[0, 2, 8]\n"
     ]
    }
   ],
   "source": [
    "# a list contains both even and odd numbers.\n",
    "seq = [0, 1, 2, 3, 5, 8, 13]\n",
    "\n",
    "# result contains odd numbers of the list\n",
    "result = filter(lambda x: x % 2 != 0, seq)\n",
    "print(list(result))\n",
    "\n",
    "# result contains even numbers of the list\n",
    "result = filter(lambda x: x % 2 == 0, seq)\n",
    "print(list(result))"
   ]
  },
  {
   "cell_type": "markdown",
   "id": "4eb23853",
   "metadata": {
    "id": "4eb23853"
   },
   "source": [
    "## Map Function"
   ]
  },
  {
   "cell_type": "raw",
   "id": "3c233d8d",
   "metadata": {
    "id": "3c233d8d"
   },
   "source": [
    "map() function returns a map object(which is an iterator) of the results\n",
    "after applying the given function to each item of a given\n",
    "iterable (list, tuple etc.)\n",
    "\n"
   ]
  },
  {
   "cell_type": "code",
   "execution_count": null,
   "id": "6f118feb",
   "metadata": {
    "id": "6f118feb",
    "outputId": "00e5d4ed-bd17-4ee0-9c92-768c7190f27d"
   },
   "outputs": [
    {
     "name": "stdout",
     "output_type": "stream",
     "text": [
      "[2, 4, 6, 8]\n"
     ]
    }
   ],
   "source": [
    "# Return double of n\n",
    "def addition(n):\n",
    "    return n + n\n",
    "\n",
    "# We double all numbers using map()\n",
    "numbers = (1, 2, 3, 4)\n",
    "result = map(addition, numbers)\n",
    "print(list(result))"
   ]
  },
  {
   "cell_type": "code",
   "execution_count": null,
   "id": "9b787705",
   "metadata": {
    "id": "9b787705"
   },
   "outputs": [],
   "source": [
    "# Double all numbers using map and lambda\n",
    "  numbers = (1, 2, 3, 4)\n",
    "result = map(lambda x: x + x, numbers)\n",
    "print(list(result))"
   ]
  },
  {
   "cell_type": "code",
   "execution_count": null,
   "id": "5eb98f56",
   "metadata": {
    "id": "5eb98f56"
   },
   "outputs": [],
   "source": [
    "print(list(result))"
   ]
  },
  {
   "cell_type": "code",
   "execution_count": null,
   "id": "bd187431",
   "metadata": {
    "id": "bd187431",
    "outputId": "e0e291d1-09fd-4733-a33e-e6350c426e89"
   },
   "outputs": [
    {
     "name": "stdout",
     "output_type": "stream",
     "text": [
      "[5, 7, 9]\n"
     ]
    }
   ],
   "source": [
    "# Add two lists using map and lambda\n",
    "\n",
    "numbers1 = [1, 2, 3]\n",
    "numbers2 = [4, 5, 6]\n",
    "\n",
    "result = map(lambda x, y: x + y, numbers1, numbers2)\n",
    "print(list(result))"
   ]
  },
  {
   "cell_type": "code",
   "execution_count": null,
   "id": "92d8a52a",
   "metadata": {
    "id": "92d8a52a",
    "outputId": "cb0dc86b-654c-439b-c379-a40bd7c0b8d1"
   },
   "outputs": [
    {
     "name": "stdout",
     "output_type": "stream",
     "text": [
      "[['s', 'a', 't'], ['b', 'a', 't'], ['c', 'a', 't'], ['m', 'a', 't']]\n"
     ]
    }
   ],
   "source": [
    "# List of strings\n",
    "l = ['sat', 'bat', 'cat', 'mat']\n",
    "\n",
    "# map() can listify the list of strings individually\n",
    "test = list(map(list, l))\n",
    "print(test)"
   ]
  },
  {
   "cell_type": "markdown",
   "id": "74baea00",
   "metadata": {
    "id": "74baea00"
   },
   "source": [
    "## Reduce Function"
   ]
  },
  {
   "cell_type": "raw",
   "id": "c01df593",
   "metadata": {
    "id": "c01df593"
   },
   "source": [
    "The reduce(fun,seq) function is used to apply a particular function passed in\n",
    "its argument to all of the list elements mentioned in the sequence passed\n",
    "along.This function is defined in “functools” module."
   ]
  },
  {
   "cell_type": "code",
   "execution_count": null,
   "id": "467efe2d",
   "metadata": {
    "id": "467efe2d",
    "outputId": "3f8a2eb2-7fc2-47a9-d45e-d8d0b43a5b50"
   },
   "outputs": [
    {
     "name": "stdout",
     "output_type": "stream",
     "text": [
      "The sum of the list elements is : 17\n"
     ]
    }
   ],
   "source": [
    "# importing functools for reduce()\n",
    "import functools\n",
    "\n",
    "# initializing list\n",
    "lis = [1, 3, 5, 6, 2]\n",
    "\n",
    "# using reduce to compute sum of list\n",
    "print(\"The sum of the list elements is : \", end=\"\")\n",
    "print(functools.reduce(lambda a, b: a+b, lis))\n",
    "\n"
   ]
  },
  {
   "cell_type": "code",
   "execution_count": null,
   "id": "af273d1f",
   "metadata": {
    "id": "af273d1f",
    "outputId": "c5aec0ea-34d3-410b-d939-c8f982236aec"
   },
   "outputs": [
    {
     "name": "stdout",
     "output_type": "stream",
     "text": [
      "The maximum element of the list is : 6\n"
     ]
    }
   ],
   "source": [
    "# using reduce to compute maximum element from list\n",
    "print(\"The maximum element of the list is : \", end=\"\")\n",
    "print(functools.reduce(lambda a, b: a if a > b else b, lis))"
   ]
  }
 ],
 "metadata": {
  "colab": {
   "provenance": []
  },
  "kernelspec": {
   "display_name": "Python 3 (ipykernel)",
   "language": "python",
   "name": "python3"
  },
  "language_info": {
   "codemirror_mode": {
    "name": "ipython",
    "version": 3
   },
   "file_extension": ".py",
   "mimetype": "text/x-python",
   "name": "python",
   "nbconvert_exporter": "python",
   "pygments_lexer": "ipython3",
   "version": "3.12.4"
  }
 },
 "nbformat": 4,
 "nbformat_minor": 5
}
