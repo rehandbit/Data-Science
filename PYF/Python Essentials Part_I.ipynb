{
 "cells": [
  {
   "cell_type": "markdown",
   "id": "5573a58b",
   "metadata": {
    "id": "5573a58b"
   },
   "source": [
    "# What is Jupyter  Notebook\n",
    "* The Jupyter Notebook is an open-source web application that allows data scientists to create and share documents that           integrate live code, equations, computational output, visualizations, and other multimedia resources,\n",
    "\n",
    "* Uses include data cleaning and transformation, numerical simulation, statistical modeling, data visualization, machine         learning, and much more.\n"
   ]
  },
  {
   "cell_type": "markdown",
   "id": "1c454286",
   "metadata": {
    "id": "1c454286"
   },
   "source": [
    "## Tutorial\n",
    "- Interactive\n",
    "- Results/outputs are stored so it is easy to review\n",
    "- Friendly for documentation\n",
    "- No limitation from performance\n",
    "- helpful shortcuts\n",
    "- Industry standard for all data science, ML, AI projects.\n",
    "\n",
    "<p> Extension of jupyter file is ipynb (i python notebook, previous name of Jupyter) </p>\n",
    "\n"
   ]
  },
  {
   "cell_type": "markdown",
   "id": "8d68548a-8892-4010-9b24-7c3098bd35af",
   "metadata": {},
   "source": [
    "## Cell Types"
   ]
  },
  {
   "cell_type": "code",
   "execution_count": null,
   "id": "e06b5e43-0591-42d4-95f5-2efda7a04cdd",
   "metadata": {},
   "outputs": [],
   "source": [
    "# A Code cell is the default cell type in Jupyter\n",
    "40 + 5 - 16"
   ]
  },
  {
   "cell_type": "raw",
   "id": "09ddcdc0-0a9f-4b25-a58e-2cc3b6f83478",
   "metadata": {},
   "source": [
    "Any execution of code and performing operations must take place in a code cell."
   ]
  },
  {
   "cell_type": "markdown",
   "id": "ee8239e8",
   "metadata": {
    "id": "ee8239e8"
   },
   "source": [
    "## Markdown\n",
    "Text may be styled within a markdown cell. \n",
    "**This is handy for**\n",
    "### Section Headings \n",
    "or\n",
    "#### Titles\n",
    "_This allows easy viewing of your project in an organized fashion._"
   ]
  },
  {
   "cell_type": "raw",
   "id": "291f7652",
   "metadata": {
    "id": "291f7652"
   },
   "source": [
    "The third cell type Raw cannot perform executive tasks nor has any styling options. However, it is preferred for plain text documentation and any explanation of code or analytics, particularly if there are passages or paragraphs."
   ]
  },
  {
   "cell_type": "markdown",
   "id": "e6babead",
   "metadata": {
    "id": "e6babead",
    "jp-MarkdownHeadingCollapsed": true
   },
   "source": [
    "# Short Cuts\n",
    "\n",
    "[shift] + [enter] : run a cell\n",
    "\n",
    "Command mode:\n",
    "a : insert cell above\n",
    "\n",
    "b : insert cell below\n",
    "\n",
    "dd : delete a cell\n",
    "\n",
    "z : undo a delete cell\n",
    "\n",
    "r : convert cell to raw cell\n",
    "\n",
    "m : convert cell to Markdown cell\n",
    "\n",
    "y : convert cell to code cell\n",
    "\n",
    "c: copy a cell\n",
    "\n",
    "v : paste a cell\n",
    "\n",
    "x : cut a cell\n",
    "\n",
    "o : toggle output\n",
    "\n",
    "## Edit Mode:\n",
    "\n",
    "Ctrl + C : copy a text\n",
    "\n",
    "Ctrl + V : paste\n",
    "\n",
    "Ctrl + X : cut\n",
    "\n",
    "Ctrl + Z : undo"
   ]
  },
  {
   "cell_type": "markdown",
   "id": "cd840a4f",
   "metadata": {
    "id": "cd840a4f"
   },
   "source": [
    "# Keywords\n",
    "* Keywords are reserved words in Python with designated meanings.\n",
    "* These cannot be used as identifiers to name objects."
   ]
  },
  {
   "cell_type": "code",
   "execution_count": null,
   "id": "0ab1d4b0",
   "metadata": {
    "colab": {
     "base_uri": "https://localhost:8080/"
    },
    "executionInfo": {
     "elapsed": 7,
     "status": "ok",
     "timestamp": 1679915408933,
     "user": {
      "displayName": "Jitendra Rathod",
      "userId": "08588782662248261812"
     },
     "user_tz": -330
    },
    "id": "0ab1d4b0",
    "outputId": "76093bce-910a-4418-f32f-3b52a7b24e2e"
   },
   "outputs": [],
   "source": [
    "import keyword\n",
    "print(keyword.kwlist)  # listing out the keywords within Python"
   ]
  },
  {
   "cell_type": "code",
   "execution_count": null,
   "id": "7a9ef08d",
   "metadata": {
    "id": "7a9ef08d"
   },
   "outputs": [],
   "source": [
    "len(keyword.kwlist)"
   ]
  },
  {
   "cell_type": "markdown",
   "id": "c15e70c8",
   "metadata": {
    "id": "c15e70c8"
   },
   "source": [
    "# Identifiers"
   ]
  },
  {
   "cell_type": "markdown",
   "id": "41911e15",
   "metadata": {
    "id": "41911e15"
   },
   "source": [
    "* An identifier is the name we provide to an entity such as a function or variable.\n",
    "* It helps in differentiating one entity from other.\n",
    "  \n",
    "_There are certain dos and don'ts to observe while picking an identifier._"
   ]
  },
  {
   "cell_type": "code",
   "execution_count": null,
   "id": "66cb1403",
   "metadata": {
    "id": "66cb1403"
   },
   "outputs": [],
   "source": [
    "2var=34  #identifier cannot begin with a digit"
   ]
  },
  {
   "cell_type": "code",
   "execution_count": null,
   "id": "c100d47b",
   "metadata": {
    "id": "c100d47b"
   },
   "outputs": [],
   "source": [
    "word@123='abc' # cannot use special symbols"
   ]
  },
  {
   "cell_type": "code",
   "execution_count": null,
   "id": "57ac31ff",
   "metadata": {
    "id": "57ac31ff"
   },
   "outputs": [],
   "source": [
    "import=153 # Keywords cannot be used as identifier"
   ]
  },
  {
   "cell_type": "code",
   "execution_count": null,
   "id": "2bba50bc",
   "metadata": {
    "id": "2bba50bc"
   },
   "outputs": [],
   "source": [
    "\"\"\"Correct way of defining an identifier:\n",
    "(Identifiers can be a combination of letters in lowercase (a to z) or uppercase\n",
    "and only special character allowed is _ )\"\"\"\n",
    "var_1 = 14 # the variable var_1 has been initialised with a value of 14"
   ]
  },
  {
   "cell_type": "code",
   "execution_count": null,
   "id": "1f250660",
   "metadata": {
    "id": "1f250660"
   },
   "outputs": [],
   "source": [
    "VAR_1=2 # new variable assigned\n",
    "var_1 + VAR_1"
   ]
  },
  {
   "cell_type": "code",
   "execution_count": null,
   "id": "683313e3",
   "metadata": {
    "id": "683313e3"
   },
   "outputs": [],
   "source": [
    "city_ind = \"Mumbai\""
   ]
  },
  {
   "cell_type": "markdown",
   "id": "97b903b7",
   "metadata": {
    "id": "97b903b7"
   },
   "source": [
    "# Comments\n",
    "The use of comments in a code cell can explain the method or operation in use. Commenting helps to\n",
    "- Improve readability\n",
    "- Make for a quick review of the work"
   ]
  },
  {
   "cell_type": "code",
   "execution_count": null,
   "id": "bba78a99",
   "metadata": {
    "id": "bba78a99"
   },
   "outputs": [],
   "source": [
    "# Hashtag is effective for short phrases\n",
    "units = 10\n",
    "sell_price = 120\n",
    "total = units*sell_price  # Total amount "
   ]
  },
  {
   "cell_type": "code",
   "execution_count": null,
   "id": "1ca2252d",
   "metadata": {
    "id": "1ca2252d"
   },
   "outputs": [],
   "source": [
    "total # if we have long sentences and need to go to the next line, \n",
    "# we cannot continue it without another hashtag"
   ]
  },
  {
   "cell_type": "markdown",
   "id": "62ac1ae9-43a5-49ec-88b9-a6b133041130",
   "metadata": {
    "id": "2f772d53"
   },
   "source": [
    "#### The syntax is designed such that the comment is ignored by the kernel during execution of the cell."
   ]
  },
  {
   "cell_type": "code",
   "execution_count": null,
   "id": "31a80171",
   "metadata": {
    "id": "31a80171"
   },
   "outputs": [],
   "source": [
    "'''\n",
    "Multi-line remarks becomes easy to \n",
    "express with this style of commenting.\n",
    "'''\n",
    "num1 = 25\n",
    "num2 = 50\n",
    "sum = num1 + num2\n",
    "sum"
   ]
  },
  {
   "cell_type": "code",
   "execution_count": null,
   "id": "50aab966-f47f-4d82-9633-09187cdc54b7",
   "metadata": {
    "id": "2bba50bc"
   },
   "outputs": [],
   "source": [
    "\"\"\"Correct way of defining an identifier:\n",
    "(Identifiers can be a combination of letters in lowercase (a to z) or uppercase\n",
    "and only special character allowed is _ )\"\"\"\n",
    "var_1 = 14 # the variable var_1 has been initialised with a value of 14"
   ]
  },
  {
   "cell_type": "markdown",
   "id": "a76869bd",
   "metadata": {
    "id": "a76869bd"
   },
   "source": [
    "# Statements\n",
    "* Instructions that a Python interpreter can execute"
   ]
  },
  {
   "cell_type": "code",
   "execution_count": null,
   "id": "49b580e9",
   "metadata": {
    "id": "49b580e9"
   },
   "outputs": [],
   "source": [
    "# Single line statement\n",
    "p1 = 20 + 30 +  40  +  50 + 70 + 80\n",
    "p1"
   ]
  },
  {
   "cell_type": "code",
   "execution_count": null,
   "id": "0465af83",
   "metadata": {
    "id": "0465af83"
   },
   "outputs": [],
   "source": [
    "# Multiple line statement\n",
    "p1 = 20 + 30 \\\n",
    "+  40  +  50  \\\n",
    "+ 70 + 80\n",
    "p1"
   ]
  },
  {
   "cell_type": "markdown",
   "id": "a48922a0",
   "metadata": {
    "id": "a48922a0"
   },
   "source": [
    "# Variables"
   ]
  },
  {
   "cell_type": "markdown",
   "id": "33961071",
   "metadata": {
    "id": "33961071"
   },
   "source": [
    "*  A Python variable creates a reserved memory location to store a value.\n",
    "*  A variable can be initialised by assigning some value to begin with."
   ]
  },
  {
   "cell_type": "code",
   "execution_count": null,
   "id": "85427289",
   "metadata": {
    "id": "85427289"
   },
   "outputs": [],
   "source": [
    "k=30 ## variable creation"
   ]
  },
  {
   "cell_type": "code",
   "execution_count": null,
   "id": "3670495c",
   "metadata": {
    "id": "3670495c"
   },
   "outputs": [],
   "source": [
    "k ## calling of variable"
   ]
  },
  {
   "cell_type": "code",
   "execution_count": null,
   "id": "fd3cbba9",
   "metadata": {
    "id": "fd3cbba9"
   },
   "outputs": [],
   "source": [
    "print(k) ## print the variable"
   ]
  },
  {
   "cell_type": "code",
   "execution_count": null,
   "id": "2f1f3a0f-aee2-46aa-a282-ee80ee889cd5",
   "metadata": {},
   "outputs": [],
   "source": [
    "tigers = 2500\n",
    "lions = 1450\n",
    "tigers\n",
    "lions  # attempt to call multiple variables"
   ]
  },
  {
   "cell_type": "code",
   "execution_count": null,
   "id": "0025bd3b-44d6-4cd0-a943-bd91e39ada5e",
   "metadata": {},
   "outputs": [],
   "source": [
    "print(tigers) # requires print() function to execute multiple displays\n",
    "print(lions)"
   ]
  },
  {
   "cell_type": "markdown",
   "id": "c4e3a2d2",
   "metadata": {
    "id": "c4e3a2d2"
   },
   "source": [
    "## Variable Assignment"
   ]
  },
  {
   "cell_type": "code",
   "execution_count": null,
   "id": "f741d376",
   "metadata": {
    "id": "f741d376",
    "scrolled": true
   },
   "outputs": [],
   "source": [
    "intvar = 10 # Integer variable\n",
    "floatvar = 2.57 # Float Variable\n",
    "strvar = \"Python Language\" # String variable\n",
    "print(intvar)\n",
    "print(floatvar)\n",
    "print(strvar)"
   ]
  },
  {
   "cell_type": "markdown",
   "id": "aff84426",
   "metadata": {
    "id": "aff84426"
   },
   "source": [
    "### Multiple Assignment"
   ]
  },
  {
   "cell_type": "code",
   "execution_count": null,
   "id": "d4683b2a",
   "metadata": {
    "id": "d4683b2a",
    "scrolled": true
   },
   "outputs": [],
   "source": [
    "species,age,bp = \"Elephant\",50,125.6\n",
    "# Using commas to separate variables\n",
    "print(\"Species:\",species)\n",
    "print(\"Lifespan in years:\",age)\n",
    "print(\"Average blood pressure:\",bp)"
   ]
  },
  {
   "cell_type": "code",
   "execution_count": null,
   "id": "1644ff55",
   "metadata": {
    "id": "1644ff55",
    "scrolled": true
   },
   "outputs": [],
   "source": [
    "p1 = p2 = p3 = p4 = 44\n",
    "# All variables pointing to same value\n",
    "print(p1,p2,p3,p4)"
   ]
  },
  {
   "cell_type": "markdown",
   "id": "37f99688",
   "metadata": {
    "id": "37f99688"
   },
   "source": [
    "# Data Types"
   ]
  },
  {
   "cell_type": "markdown",
   "id": "5a9a8cd3",
   "metadata": {
    "id": "5a9a8cd3"
   },
   "source": [
    "## Numeric\n",
    "**Integer**: denoted as int \n",
    "\n",
    "**Float**: denoted as float\n"
   ]
  },
  {
   "cell_type": "code",
   "execution_count": null,
   "id": "3217d802",
   "metadata": {
    "id": "3217d802"
   },
   "outputs": [],
   "source": [
    "import sys"
   ]
  },
  {
   "cell_type": "code",
   "execution_count": null,
   "id": "2fa04823",
   "metadata": {
    "colab": {
     "base_uri": "https://localhost:8080/"
    },
    "executionInfo": {
     "elapsed": 6,
     "status": "ok",
     "timestamp": 1696742969825,
     "user": {
      "displayName": "Rama Chandra Kotturu",
      "userId": "02243285469857073193"
     },
     "user_tz": -330
    },
    "id": "2fa04823",
    "outputId": "f993dd81-c7af-4ede-db2b-00cf212e2473"
   },
   "outputs": [],
   "source": [
    "val2 = 92.78 # Float data type\n",
    "print(val2)\n",
    "print(type(val2)) # type of object\n",
    "print(sys.getsizeof(val2)) # size of float object in bytes\n",
    "print(val2, \" is float?\", isinstance(val2, float)) # Val2 is an instance of float"
   ]
  },
  {
   "cell_type": "code",
   "execution_count": null,
   "id": "61eda00f",
   "metadata": {
    "id": "61eda00f"
   },
   "outputs": [],
   "source": [
    "val3 = 25 + 10j # Complex data type\n",
    "print(val3)\n",
    "print(type(val3)) # type of object\n",
    "print(sys.getsizeof(val3)) # size of float object in bytes\n",
    "print(val3, \" is complex?\", isinstance(val3, complex)) # val3 is an instance of complex"
   ]
  },
  {
   "cell_type": "markdown",
   "id": "d7c74ac7",
   "metadata": {
    "id": "d7c74ac7"
   },
   "source": [
    "## Boolean\n",
    "Boolean datatype can have only two possible values: True or False"
   ]
  },
  {
   "cell_type": "code",
   "execution_count": null,
   "id": "052cf431",
   "metadata": {
    "id": "052cf431"
   },
   "outputs": [],
   "source": [
    "on=True"
   ]
  },
  {
   "cell_type": "code",
   "execution_count": null,
   "id": "9cb97c89",
   "metadata": {
    "id": "9cb97c89"
   },
   "outputs": [],
   "source": [
    "off=False"
   ]
  },
  {
   "cell_type": "code",
   "execution_count": null,
   "id": "0f453174",
   "metadata": {
    "id": "0f453174"
   },
   "outputs": [],
   "source": [
    "type(on)"
   ]
  },
  {
   "cell_type": "code",
   "execution_count": null,
   "id": "6211346a",
   "metadata": {
    "id": "6211346a"
   },
   "outputs": [],
   "source": [
    "isinstance(off, bool)"
   ]
  },
  {
   "cell_type": "code",
   "execution_count": null,
   "id": "efd2e4ee-91e9-40e0-a6b0-86c50e09f5d0",
   "metadata": {
    "id": "6211346a"
   },
   "outputs": [],
   "source": [
    "isinstance(off, int) # qualifies as int"
   ]
  },
  {
   "cell_type": "code",
   "execution_count": null,
   "id": "8c600c49",
   "metadata": {
    "id": "8c600c49"
   },
   "outputs": [],
   "source": [
    "bool(0)"
   ]
  },
  {
   "cell_type": "code",
   "execution_count": null,
   "id": "5b17409e",
   "metadata": {
    "id": "5b17409e"
   },
   "outputs": [],
   "source": [
    "bool(-98) # Anything apart from 0 is True"
   ]
  },
  {
   "cell_type": "markdown",
   "id": "b40a9db7",
   "metadata": {
    "id": "b40a9db7"
   },
   "source": [
    "## String"
   ]
  },
  {
   "cell_type": "markdown",
   "id": "6580adac",
   "metadata": {
    "id": "6580adac"
   },
   "source": [
    "> A sequence of characters is a string."
   ]
  },
  {
   "cell_type": "code",
   "execution_count": null,
   "id": "54346673",
   "metadata": {
    "id": "54346673"
   },
   "outputs": [],
   "source": [
    "doc = \"It's a fine day.\"\n",
    "doc"
   ]
  },
  {
   "cell_type": "code",
   "execution_count": null,
   "id": "c99b0d2d-0291-4992-8b11-73ea5ff9b9fd",
   "metadata": {},
   "outputs": [],
   "source": [
    "print(\"Type of the document:\",type(doc))"
   ]
  },
  {
   "cell_type": "code",
   "execution_count": null,
   "id": "34012e79",
   "metadata": {
    "id": "34012e79"
   },
   "outputs": [],
   "source": [
    "address = '#2 Main Street, 56/3' # Define string using single quotes\n",
    "print(address)"
   ]
  },
  {
   "cell_type": "markdown",
   "id": "21e9ae35",
   "metadata": {
    "id": "21e9ae35"
   },
   "source": [
    "### String indexing"
   ]
  },
  {
   "cell_type": "code",
   "execution_count": null,
   "id": "cd4091f8",
   "metadata": {
    "id": "cd4091f8",
    "scrolled": true
   },
   "outputs": [],
   "source": [
    "str1='HELLO PYTHON'"
   ]
  },
  {
   "cell_type": "code",
   "execution_count": null,
   "id": "bb12a213",
   "metadata": {
    "id": "bb12a213"
   },
   "outputs": [],
   "source": [
    "str1[5] # First character in string \"str1\"\n"
   ]
  },
  {
   "cell_type": "code",
   "execution_count": null,
   "id": "dead0eea",
   "metadata": {
    "id": "dead0eea"
   },
   "outputs": [],
   "source": [
    "str1[-7] # reverse indexing possible"
   ]
  },
  {
   "cell_type": "code",
   "execution_count": null,
   "id": "f4bc7dfc",
   "metadata": {
    "id": "f4bc7dfc"
   },
   "outputs": [],
   "source": [
    "len(str1) # Number of chars in given string"
   ]
  },
  {
   "cell_type": "code",
   "execution_count": null,
   "id": "686c1440",
   "metadata": {
    "id": "686c1440"
   },
   "outputs": [],
   "source": [
    "str1[-1] # Last character \n"
   ]
  },
  {
   "cell_type": "code",
   "execution_count": null,
   "id": "123531e7",
   "metadata": {
    "id": "123531e7"
   },
   "outputs": [],
   "source": [
    "str1[6] #Fetch 7th element of the string"
   ]
  },
  {
   "cell_type": "markdown",
   "id": "617e14ce",
   "metadata": {
    "id": "617e14ce"
   },
   "source": [
    "### String Slicing"
   ]
  },
  {
   "cell_type": "code",
   "execution_count": null,
   "id": "51e851cb",
   "metadata": {
    "id": "51e851cb"
   },
   "outputs": [],
   "source": [
    "str1[0:5] ## start:end"
   ]
  },
  {
   "cell_type": "code",
   "execution_count": null,
   "id": "8146ce76",
   "metadata": {
    "id": "8146ce76"
   },
   "outputs": [],
   "source": [
    "str1"
   ]
  },
  {
   "cell_type": "code",
   "execution_count": null,
   "id": "0882fb00",
   "metadata": {
    "id": "0882fb00"
   },
   "outputs": [],
   "source": [
    "str2='Data is new fuel'\n",
    "# Task:-Extract new and data from above string"
   ]
  },
  {
   "cell_type": "code",
   "execution_count": null,
   "id": "ed2661d2",
   "metadata": {
    "id": "ed2661d2",
    "outputId": "a91a95d2-6843-4417-981b-3dbc5fc4b82c"
   },
   "outputs": [],
   "source": [
    "str1[:] # whole string"
   ]
  },
  {
   "cell_type": "code",
   "execution_count": null,
   "id": "23b33ead",
   "metadata": {
    "id": "23b33ead",
    "outputId": "6632b0cd-c8ae-4bd2-dd2e-f3493f46d40e"
   },
   "outputs": [],
   "source": [
    "str1[3:] # default end ~ end of string"
   ]
  },
  {
   "cell_type": "code",
   "execution_count": null,
   "id": "d4627050",
   "metadata": {
    "id": "d4627050",
    "outputId": "5c27554e-12c7-4311-9651-0b097abd0119"
   },
   "outputs": [],
   "source": [
    "str1[:6] # default start ~ beginning of string"
   ]
  },
  {
   "cell_type": "code",
   "execution_count": null,
   "id": "5b8ffccc",
   "metadata": {
    "id": "5b8ffccc",
    "outputId": "35ec8739-4c94-4b99-cdbf-f6bb28b14f8d"
   },
   "outputs": [],
   "source": [
    "str1[-10:-5]"
   ]
  },
  {
   "cell_type": "code",
   "execution_count": null,
   "id": "d5094f73",
   "metadata": {
    "id": "d5094f73"
   },
   "outputs": [],
   "source": [
    "str1"
   ]
  },
  {
   "cell_type": "code",
   "execution_count": null,
   "id": "27040e35",
   "metadata": {
    "id": "27040e35",
    "outputId": "c62e63e0-645a-4d0b-b069-f4afdd3b20ee"
   },
   "outputs": [],
   "source": [
    "# str1[start:end:step]\n",
    "\n",
    "str1[::-2]"
   ]
  },
  {
   "cell_type": "markdown",
   "id": "26ea1f22",
   "metadata": {
    "id": "26ea1f22"
   },
   "source": [
    "### Update and Delete string"
   ]
  },
  {
   "cell_type": "markdown",
   "id": "8be8dec6",
   "metadata": {
    "id": "8be8dec6"
   },
   "source": [
    "* Strings are immutable which means elements of a\n",
    "string cannot be changed once the they are assigned with\n",
    "any values\n"
   ]
  },
  {
   "cell_type": "code",
   "execution_count": null,
   "id": "b48e5be5",
   "metadata": {
    "id": "b48e5be5"
   },
   "outputs": [],
   "source": [
    "course='Data Science'\n",
    "course[:4]"
   ]
  },
  {
   "cell_type": "code",
   "execution_count": null,
   "id": "67aec6de",
   "metadata": {
    "colab": {
     "base_uri": "https://localhost:8080/",
     "height": 211
    },
    "executionInfo": {
     "elapsed": 9,
     "status": "error",
     "timestamp": 1696745745237,
     "user": {
      "displayName": "Rama Chandra Kotturu",
      "userId": "02243285469857073193"
     },
     "user_tz": -330
    },
    "id": "67aec6de",
    "outputId": "c129477c-3761-4bc1-b99e-9c2ece07b679"
   },
   "outputs": [],
   "source": [
    "course[:4] = \"Life\""
   ]
  },
  {
   "cell_type": "code",
   "execution_count": null,
   "id": "77ec3157-8ebe-449b-825b-001c9fe784f2",
   "metadata": {},
   "outputs": [],
   "source": [
    "# Alternately try with the replace function\n",
    "course.replace(\"Data\",\"Life\") "
   ]
  },
  {
   "cell_type": "code",
   "execution_count": null,
   "id": "8d6adf19-c1f7-4fe2-b7f0-902b077d1910",
   "metadata": {},
   "outputs": [],
   "source": [
    "# while it delivers the output\n",
    "print(course) # the immutable string remains unchanged"
   ]
  },
  {
   "cell_type": "code",
   "execution_count": null,
   "id": "5ad6c1da-ebfe-40ea-af52-9efdf5da7a52",
   "metadata": {},
   "outputs": [],
   "source": [
    "del course # delete the object\n",
    "course # called right after - error confirms success"
   ]
  },
  {
   "cell_type": "markdown",
   "id": "b5b59f30",
   "metadata": {
    "id": "b5b59f30"
   },
   "source": [
    "### String concatenation\n"
   ]
  },
  {
   "cell_type": "code",
   "execution_count": null,
   "id": "4c2cc25b",
   "metadata": {
    "id": "4c2cc25b"
   },
   "outputs": [],
   "source": [
    "#  String concatenation\n",
    "s1 = \"Well\"\n",
    "s2 = \"being\"\n",
    "s1 + s2"
   ]
  },
  {
   "cell_type": "code",
   "execution_count": null,
   "id": "b9a1bc0e",
   "metadata": {
    "id": "b9a1bc0e"
   },
   "outputs": [],
   "source": [
    "# storing the result\n",
    "s3 = s1 + \"-\" + s2\n",
    "s3"
   ]
  },
  {
   "cell_type": "markdown",
   "id": "7b1f3379",
   "metadata": {
    "id": "7b1f3379"
   },
   "source": [
    "### String Membership"
   ]
  },
  {
   "cell_type": "code",
   "execution_count": null,
   "id": "86d2b79a",
   "metadata": {
    "id": "86d2b79a"
   },
   "outputs": [],
   "source": [
    "greeting = \"Hello Namaste Hola! Salaam\"\n",
    "greeting"
   ]
  },
  {
   "cell_type": "code",
   "execution_count": null,
   "id": "073089bb",
   "metadata": {
    "id": "073089bb",
    "outputId": "9cf537ce-26f1-4ee7-c863-bc38afd3a1f5"
   },
   "outputs": [],
   "source": [
    "'Bonjour' in greeting # Check for presence of substring within a document"
   ]
  },
  {
   "cell_type": "code",
   "execution_count": null,
   "id": "8c90f7d0",
   "metadata": {
    "id": "8c90f7d0",
    "outputId": "397087df-11a3-44a1-904f-4c025c71ce0b"
   },
   "outputs": [],
   "source": [
    "\"Namaste\" in greeting"
   ]
  },
  {
   "cell_type": "code",
   "execution_count": null,
   "id": "2e58f985-e42f-4078-945a-2b6c8aeaa35b",
   "metadata": {},
   "outputs": [],
   "source": [
    "'hola' in greeting # case-sensitive"
   ]
  },
  {
   "cell_type": "markdown",
   "id": "8ece4e99",
   "metadata": {
    "id": "8ece4e99"
   },
   "source": [
    "### String Partitioning\n",
    "partition() searches for a substring as argument to break up the string into 3 parts:\n",
    "- part before the argument\n",
    "- argument substring\n",
    "- part following the argument"
   ]
  },
  {
   "cell_type": "code",
   "execution_count": null,
   "id": "0ba08747",
   "metadata": {
    "executionInfo": {
     "elapsed": 454,
     "status": "ok",
     "timestamp": 1652335083127,
     "user": {
      "displayName": "Rohan Ravindra Sohani",
      "userId": "06993368347103045844"
     },
     "user_tz": -330
    },
    "id": "0ba08747",
    "outputId": "290c7825-e707-4c93-e417-d7d4ffc353c7"
   },
   "outputs": [],
   "source": [
    "str5 = \"Natural language processing with Python and R and Java\"\n",
    "L = str5.partition(\"and\")\n",
    "L"
   ]
  },
  {
   "cell_type": "code",
   "execution_count": null,
   "id": "388f80f6-1839-46d5-8505-4cfb2341253e",
   "metadata": {},
   "outputs": [],
   "source": [
    "str5.count(\"and\")"
   ]
  },
  {
   "cell_type": "raw",
   "id": "f9da10e6-2b89-42c1-a302-4b043df1b468",
   "metadata": {
    "id": "4ee663bd"
   },
   "source": [
    "In the above string, \"and\" occurs twice. partition() locates the first instance."
   ]
  },
  {
   "cell_type": "markdown",
   "id": "8c3d4fc9",
   "metadata": {
    "id": "8c3d4fc9"
   },
   "source": [
    "### String Functions"
   ]
  },
  {
   "cell_type": "code",
   "execution_count": null,
   "id": "be81f2fa",
   "metadata": {
    "id": "be81f2fa",
    "outputId": "2164e1ae-255b-4ec4-b248-3e4be2e195c8"
   },
   "outputs": [],
   "source": [
    "mystr2 = \" Hello Everyone    \"\n",
    "mystr2"
   ]
  },
  {
   "cell_type": "code",
   "execution_count": null,
   "id": "d409e01e",
   "metadata": {
    "id": "d409e01e",
    "outputId": "fb82509e-9f04-4280-fbb5-e05c17ea8d45"
   },
   "outputs": [],
   "source": [
    "mystr2.count('e')"
   ]
  },
  {
   "cell_type": "code",
   "execution_count": null,
   "id": "e7a3b771",
   "metadata": {
    "id": "e7a3b771",
    "outputId": "0f9ee69d-4083-4260-8986-c50c7b87dd3c"
   },
   "outputs": [],
   "source": [
    "mystr2.strip() # removes whitespaces at the start and end of string"
   ]
  },
  {
   "cell_type": "code",
   "execution_count": null,
   "id": "0c5a67a2",
   "metadata": {
    "id": "0c5a67a2",
    "outputId": "26b6371c-4275-48a0-a8e5-ff2f5e0d7871"
   },
   "outputs": [],
   "source": [
    "mystr2  # Immutability"
   ]
  },
  {
   "cell_type": "code",
   "execution_count": null,
   "id": "ed2b80db",
   "metadata": {
    "id": "ed2b80db"
   },
   "outputs": [],
   "source": [
    "new_greet=mystr2.strip()"
   ]
  },
  {
   "cell_type": "code",
   "execution_count": null,
   "id": "822cbd37",
   "metadata": {
    "id": "822cbd37",
    "outputId": "71e0085f-a1c8-493d-e8dc-3adfa56191a8"
   },
   "outputs": [],
   "source": [
    "new_greet"
   ]
  },
  {
   "cell_type": "code",
   "execution_count": null,
   "id": "af7c9b10",
   "metadata": {
    "id": "af7c9b10"
   },
   "outputs": [],
   "source": [
    "prep='   &&&&   ***Preparation Predecessor Premonition Prenuptials Projection*****   %%&&&'\n",
    "prep"
   ]
  },
  {
   "cell_type": "code",
   "execution_count": null,
   "id": "32e3d5f1-3742-454c-8487-0408c94feeda",
   "metadata": {},
   "outputs": [],
   "source": [
    "prep.strip() # default"
   ]
  },
  {
   "cell_type": "code",
   "execution_count": null,
   "id": "9c763055-1745-4fa3-bffe-687891223fc5",
   "metadata": {},
   "outputs": [],
   "source": [
    "prep_clean = prep.strip(\"& %*\")\n",
    "prep_clean"
   ]
  },
  {
   "cell_type": "code",
   "execution_count": null,
   "id": "157da4e3-b258-4701-9d0a-ec2c20d710c0",
   "metadata": {},
   "outputs": [],
   "source": [
    "prep_clean.count(\"Pre\")"
   ]
  },
  {
   "cell_type": "code",
   "execution_count": null,
   "id": "d6fa549d-cae3-4087-974e-b9df5144f99a",
   "metadata": {},
   "outputs": [],
   "source": [
    "prep_clean.lower() # lowercase"
   ]
  },
  {
   "cell_type": "code",
   "execution_count": null,
   "id": "362649a5-2455-43c1-8d8a-2d60c041a538",
   "metadata": {},
   "outputs": [],
   "source": [
    "prep_clean.upper() # all caps"
   ]
  },
  {
   "cell_type": "markdown",
   "id": "77abfe22-4ce2-4f6a-ae94-ee15641c7410",
   "metadata": {},
   "source": [
    "### format() for a string"
   ]
  },
  {
   "cell_type": "code",
   "execution_count": null,
   "id": "ff8f5f98",
   "metadata": {
    "id": "ff8f5f98",
    "outputId": "bf72a4a5-8f64-4c51-fe49-643f4555fe5d"
   },
   "outputs": [],
   "source": [
    "# Combining string & numbers using format method\n",
    "item1 = 40\n",
    "item2 = 55\n",
    "item3 = 77\n",
    "\"Cost of the three items are {} , {} and {} respectively.\".format(item1,item3,item2)"
   ]
  },
  {
   "cell_type": "code",
   "execution_count": null,
   "id": "d3cb556b-98f7-45a9-967d-5c9607381c92",
   "metadata": {},
   "outputs": [],
   "source": [
    "car=\"Tata Motors\"\n",
    "consult = \"TCS\"\n",
    "airline = \"Air India\"\n",
    "tata_grp = \"The conglomerate Tata & Sons has several companies with {}, {} and {} into manufacturing, services and aviation.\"\n",
    "print(tata_grp.format(car,consult,airline))"
   ]
  },
  {
   "cell_type": "markdown",
   "id": "ed364f92",
   "metadata": {
    "id": "ed364f92"
   },
   "source": [
    "# Typecasting"
   ]
  },
  {
   "cell_type": "markdown",
   "id": "1eee6a0d",
   "metadata": {
    "id": "1eee6a0d"
   },
   "source": [
    "Type Casting is the process of a variable's data type converted into another type in order for an operation to be performed.\n",
    "\n",
    "* There are 2 ways in which typecasting occurs:\n",
    "\n",
    "1) Autotypecasting\n",
    "\n",
    "2) Forced Typecasting"
   ]
  },
  {
   "cell_type": "markdown",
   "id": "202310c5",
   "metadata": {
    "id": "202310c5"
   },
   "source": [
    "## Auto Typecasting\n",
    "* The Python interpreter automatically converts one data type to another without any user involvement."
   ]
  },
  {
   "cell_type": "code",
   "execution_count": null,
   "id": "85f98668",
   "metadata": {
    "id": "85f98668",
    "outputId": "5cef69de-3df3-49d8-8bdb-7a4d514c7ad9",
    "scrolled": true
   },
   "outputs": [],
   "source": [
    "4 + 5.67 + False\n",
    "##( background processing of the code) due to the\n",
    "##higher hierarchy of float datatype"
   ]
  },
  {
   "cell_type": "code",
   "execution_count": null,
   "id": "5ae66f4a",
   "metadata": {
    "id": "5ae66f4a",
    "outputId": "edc3836e-2555-4652-f091-77cfdeaa41ee"
   },
   "outputs": [],
   "source": [
    "4 + 5.6 + False + True"
   ]
  },
  {
   "cell_type": "code",
   "execution_count": null,
   "id": "d2d1107a",
   "metadata": {
    "colab": {
     "base_uri": "https://localhost:8080/",
     "height": 166
    },
    "executionInfo": {
     "elapsed": 8,
     "status": "error",
     "timestamp": 1652354423989,
     "user": {
      "displayName": "Rohan Ravindra Sohani",
      "userId": "06993368347103045844"
     },
     "user_tz": -330
    },
    "id": "d2d1107a",
    "outputId": "d1145384-0b36-470d-c901-9c394cf2fb51"
   },
   "outputs": [],
   "source": [
    "4+3+'data'+6.7"
   ]
  },
  {
   "cell_type": "markdown",
   "id": "86d08aae",
   "metadata": {
    "id": "86d08aae"
   },
   "source": [
    "## Forced Typecasting"
   ]
  },
  {
   "cell_type": "code",
   "execution_count": null,
   "id": "d42d6532",
   "metadata": {
    "id": "d42d6532"
   },
   "outputs": [],
   "source": [
    "a=9.7 # consider a float variable"
   ]
  },
  {
   "cell_type": "code",
   "execution_count": null,
   "id": "5c4bd907",
   "metadata": {
    "id": "5c4bd907",
    "outputId": "a15e6835-34ce-4423-cb9d-e22c2ad96fa5"
   },
   "outputs": [],
   "source": [
    "type(a)"
   ]
  },
  {
   "cell_type": "code",
   "execution_count": null,
   "id": "52c773ff",
   "metadata": {
    "id": "52c773ff",
    "outputId": "9a733539-974e-4cc7-8178-a74375a463e9"
   },
   "outputs": [],
   "source": [
    "int(a) # drags to base integer value"
   ]
  },
  {
   "cell_type": "code",
   "execution_count": null,
   "id": "dc49132c",
   "metadata": {
    "id": "dc49132c"
   },
   "outputs": [],
   "source": [
    "num=5 # consider an integer variable"
   ]
  },
  {
   "cell_type": "code",
   "execution_count": null,
   "id": "afe1b8fe",
   "metadata": {
    "id": "afe1b8fe",
    "outputId": "ab1e2fae-0126-4a5f-db7c-4bcceff6f682"
   },
   "outputs": [],
   "source": [
    "float(num)"
   ]
  },
  {
   "cell_type": "code",
   "execution_count": null,
   "id": "5263d0e3",
   "metadata": {
    "id": "5263d0e3",
    "outputId": "f012207f-28c1-4c18-bcba-84b521c2ae32"
   },
   "outputs": [],
   "source": [
    "bool(num)  # boolean for any value except 0 is True"
   ]
  },
  {
   "cell_type": "code",
   "execution_count": null,
   "id": "0ba33ee8",
   "metadata": {
    "id": "0ba33ee8",
    "outputId": "1c24056a-fe6a-49d2-d11f-d91285b29803",
    "scrolled": true
   },
   "outputs": [],
   "source": [
    "str(num)"
   ]
  },
  {
   "cell_type": "code",
   "execution_count": null,
   "id": "423ea644",
   "metadata": {
    "id": "423ea644"
   },
   "outputs": [],
   "source": [
    "switch=False # consider a boolean variable"
   ]
  },
  {
   "cell_type": "code",
   "execution_count": null,
   "id": "d2f19935",
   "metadata": {
    "id": "d2f19935",
    "outputId": "6a515d9f-38bd-47b2-ce48-21c0195fff39"
   },
   "outputs": [],
   "source": [
    "float(switch)"
   ]
  },
  {
   "cell_type": "code",
   "execution_count": null,
   "id": "26b1d16e",
   "metadata": {
    "id": "26b1d16e",
    "outputId": "2e1abf4e-d337-4a55-f252-922115d32aae"
   },
   "outputs": [],
   "source": [
    "int(switch)"
   ]
  },
  {
   "cell_type": "code",
   "execution_count": null,
   "id": "1a52f466",
   "metadata": {
    "id": "1a52f466",
    "outputId": "ae0a1f3d-6485-4b83-921a-9c9e153cbc87"
   },
   "outputs": [],
   "source": [
    "str(switch)"
   ]
  },
  {
   "cell_type": "code",
   "execution_count": null,
   "id": "2613aa7d",
   "metadata": {
    "id": "2613aa7d"
   },
   "outputs": [],
   "source": [
    "doc='Happiness' # Consider a string"
   ]
  },
  {
   "cell_type": "code",
   "execution_count": null,
   "id": "c3cbcdb2",
   "metadata": {
    "id": "c3cbcdb2",
    "outputId": "46363522-79a0-435e-b5a7-1967416951d3"
   },
   "outputs": [],
   "source": [
    "float(doc)"
   ]
  },
  {
   "cell_type": "code",
   "execution_count": null,
   "id": "40f399e5",
   "metadata": {
    "id": "40f399e5",
    "outputId": "af69c6fb-8e20-4eb8-8e42-fc61e4fe9824"
   },
   "outputs": [],
   "source": [
    "int(doc)"
   ]
  },
  {
   "cell_type": "raw",
   "id": "eab3b372-4529-446e-9ce8-e5f56ade3cac",
   "metadata": {},
   "source": [
    "The numerical equivalent of a string is usually non-existent. "
   ]
  },
  {
   "cell_type": "code",
   "execution_count": null,
   "id": "31946450",
   "metadata": {
    "id": "31946450"
   },
   "outputs": [],
   "source": [
    "blank_str=''"
   ]
  },
  {
   "cell_type": "code",
   "execution_count": null,
   "id": "1fee0875",
   "metadata": {
    "id": "1fee0875",
    "outputId": "aa979e07-2441-4751-d374-3bf3015f6c34"
   },
   "outputs": [],
   "source": [
    "bool(blank_str) # empty string ~ null value or 0"
   ]
  },
  {
   "cell_type": "code",
   "execution_count": null,
   "id": "bd684c6f",
   "metadata": {
    "id": "bd684c6f",
    "outputId": "efaac74d-183c-41cf-e3e8-e5222355dba2"
   },
   "outputs": [],
   "source": [
    "int('2') # an exception"
   ]
  },
  {
   "cell_type": "code",
   "execution_count": null,
   "id": "2c1e5c2c",
   "metadata": {
    "id": "2c1e5c2c",
    "outputId": "828371ac-2509-4c14-f604-780223509aeb"
   },
   "outputs": [],
   "source": [
    "float('abc')  # Convert the datatype to float"
   ]
  },
  {
   "cell_type": "code",
   "execution_count": null,
   "id": "395b4aa7",
   "metadata": {
    "id": "395b4aa7",
    "outputId": "89ec310d-ed5d-44fb-b8c2-b28688feeaeb",
    "scrolled": true
   },
   "outputs": [],
   "source": [
    "bool(8.9)#converting float type into bool"
   ]
  },
  {
   "cell_type": "code",
   "execution_count": null,
   "id": "a48861ee",
   "metadata": {
    "id": "a48861ee",
    "outputId": "bba63f1e-a5a9-455c-f61f-809438ef44ef",
    "scrolled": true
   },
   "outputs": [],
   "source": [
    "bool(0)"
   ]
  },
  {
   "cell_type": "code",
   "execution_count": null,
   "id": "00a8c882",
   "metadata": {
    "id": "00a8c882",
    "outputId": "2c76b4c7-3f46-4a60-a80a-6d695900129d",
    "scrolled": true
   },
   "outputs": [],
   "source": [
    "bool(-1)"
   ]
  },
  {
   "cell_type": "code",
   "execution_count": null,
   "id": "85eff29b",
   "metadata": {
    "id": "85eff29b",
    "outputId": "18bc98de-936d-4452-f99c-6fd3da734426"
   },
   "outputs": [],
   "source": [
    "# Guess the output\n",
    "int(1.5)+4+bool(0)\n"
   ]
  },
  {
   "cell_type": "code",
   "execution_count": null,
   "id": "d63dad07",
   "metadata": {
    "id": "d63dad07",
    "outputId": "047f3686-c0ea-424c-fdaa-a1d42268c8d2"
   },
   "outputs": [],
   "source": [
    "int(5.6)+float(6)+bool(23)\n"
   ]
  },
  {
   "cell_type": "code",
   "execution_count": null,
   "id": "06aee519",
   "metadata": {
    "id": "06aee519",
    "outputId": "d25165bc-5017-47eb-ab1d-6bda1c5f499a"
   },
   "outputs": [],
   "source": [
    "int(6.5)+1.2+int(5.5)+ bool(0)"
   ]
  }
 ],
 "metadata": {
  "colab": {
   "provenance": []
  },
  "kernelspec": {
   "display_name": "Python 3 (ipykernel)",
   "language": "python",
   "name": "python3"
  },
  "language_info": {
   "codemirror_mode": {
    "name": "ipython",
    "version": 3
   },
   "file_extension": ".py",
   "mimetype": "text/x-python",
   "name": "python",
   "nbconvert_exporter": "python",
   "pygments_lexer": "ipython3",
   "version": "3.12.4"
  }
 },
 "nbformat": 4,
 "nbformat_minor": 5
}
